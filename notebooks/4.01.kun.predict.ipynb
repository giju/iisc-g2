{
 "cells": [
  {
   "cell_type": "code",
   "execution_count": null,
   "metadata": {},
   "outputs": [],
   "source": [
    "import pandas as pd\n",
    "import joblib\n",
    "import os\n",
    "from sklearn.preprocessing import StandardScaler\n",
    "\n",
    "# Step 1: Load the Latest Model Metadata\n",
    "registry_file = \"../data/model/model_registry.csv\"\n",
    "if not os.path.exists(registry_file):\n",
    "    raise FileNotFoundError(f\"Model registry not found at {registry_file}\")\n",
    "\n",
    "registry_df = pd.read_csv(registry_file)\n",
    "\n",
    "# Get the latest model entry\n",
    "latest_entry = registry_df.iloc[-1]\n",
    "model_name = latest_entry[\"model_name\"]\n",
    "model_path = latest_entry[\"model_path\"]\n",
    "\n",
    "if not os.path.exists(model_path):\n",
    "    raise FileNotFoundError(f\"Model file not found at {model_path}\")\n",
    "\n",
    "print(f\"Loading the latest model: {model_name}\")\n",
    "svm_model = joblib.load(model_path)\n",
    "\n",
    "# Step 2: Load New Data for Prediction\n",
    "new_data = pd.read_csv(\"../data/raw/new_data.csv\")\n",
    "print(\"New data loaded.\")\n",
    "\n",
    "# Preprocess New Data\n",
    "numeric_cols = new_data.select_dtypes(include=['number']).columns\n",
    "non_numeric_cols = new_data.select_dtypes(exclude=['number']).columns\n",
    "\n",
    "new_data[numeric_cols] = new_data[numeric_cols].fillna(new_data[numeric_cols].mean())\n",
    "for col in non_numeric_cols:\n",
    "    new_data[col] = new_data[col].fillna(new_data[col].mode()[0])\n",
    "\n",
    "new_data = pd.get_dummies(new_data, drop_first=True)\n",
    "missing_cols = set(X.columns) - set(new_data.columns)\n",
    "for col in missing_cols:\n",
    "    new_data[col] = 0\n",
    "new_data = new_data[X.columns]\n",
    "\n",
    "scaler = StandardScaler()\n",
    "new_data_scaled = scaler.fit_transform(new_data)\n",
    "\n",
    "# Step 3: Make Predictions\n",
    "predictions = svm_model.predict(new_data_scaled)\n",
    "print(\"Predictions completed.\")\n",
    "print(predictions)\n"
   ]
  }
 ],
 "metadata": {
  "kernelspec": {
   "display_name": "Python 3",
   "language": "python",
   "name": "python3"
  },
  "language_info": {
   "codemirror_mode": {
    "name": "ipython",
    "version": 3
   },
   "file_extension": ".py",
   "mimetype": "text/x-python",
   "name": "python",
   "nbconvert_exporter": "python",
   "pygments_lexer": "ipython3",
   "version": "3.12.1"
  }
 },
 "nbformat": 4,
 "nbformat_minor": 2
}
