{
 "cells": [
  {
   "cell_type": "markdown",
   "metadata": {},
   "source": [
    "### Downloaded data \n",
    "https://www.kaggle.com/competitions/playground-series-s4e11/data\n",
    "### Reading data \n",
    "train.csv from data folder \n"
   ]
  },
  {
   "cell_type": "code",
   "execution_count": 15,
   "metadata": {},
   "outputs": [
    {
     "name": "stdout",
     "output_type": "stream",
     "text": [
      "Generating rows 0 - 24999 into: ../data/raw/train-0.csv\n",
      "Generating rows 25000 - 49999 into: ../data/raw/train-1.csv\n",
      "Generating rows 50000 - 74999 into: ../data/raw/train-2.csv\n",
      "Generating rows 75000 - 99999 into: ../data/raw/train-3.csv\n",
      "Generating rows 100000 - 124999 into: ../data/raw/train-4.csv\n",
      "Generating rows 125000 - 140699 into: ../data/raw/test.csv\n"
     ]
    }
   ],
   "source": [
    "import pandas as pd\n",
    "import math\n",
    "import os\n",
    "\n",
    "# Load the dataset\n",
    "df = pd.read_csv(\"../data/train.csv\")\n",
    "\n",
    "max_rows = len(df)\n",
    "num_rows = int(25e3) \n",
    "total_chunks = math.ceil(max_rows / num_rows)\n",
    "\n",
    "output_dir = \"../data/raw\"\n",
    "os.makedirs(output_dir, exist_ok=True)\n",
    "\n",
    "for idx in range(total_chunks):\n",
    "    start = idx * num_rows \n",
    "    end = min(max_rows, (idx + 1) * num_rows)  \n",
    "    \n",
    "    part = df.iloc[start:end]\n",
    "\n",
    "    target = os.path.join(output_dir, f\"train-{idx}.csv\")\n",
    "    if end == max_rows: \n",
    "        target = os.path.join(output_dir, \"test.csv\")\n",
    "\n",
    "    print(f\"Generating rows {start} - {end - 1} into: {target}\")\n",
    "    part.to_csv(target, index=False)\n"
   ]
  }
 ],
 "metadata": {
  "kernelspec": {
   "display_name": "Python 3",
   "language": "python",
   "name": "python3"
  },
  "language_info": {
   "codemirror_mode": {
    "name": "ipython",
    "version": 3
   },
   "file_extension": ".py",
   "mimetype": "text/x-python",
   "name": "python",
   "nbconvert_exporter": "python",
   "pygments_lexer": "ipython3",
   "version": "3.12.1"
  }
 },
 "nbformat": 4,
 "nbformat_minor": 2
}
