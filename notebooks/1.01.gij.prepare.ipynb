{
 "cells": [
  {
   "cell_type": "markdown",
   "metadata": {},
   "source": [
    "We are splitting the data received from the external source (kaggle) to multiple training dataset to simulate the model training in ML ops\n",
    "External data (kaggle data) is split and kept as separate files in the raw folder as raw data\n",
    "We will be cleaning the raw data and adding the cleaned data to the processed folder in a later step\n"
   ]
  },
  {
   "cell_type": "code",
   "execution_count": 7,
   "metadata": {},
   "outputs": [
    {
     "name": "stdout",
     "output_type": "stream",
     "text": [
      "Generating 0 - 24999 : ../data/raw/v1/train-0.csv\n",
      "Generating 25000 - 49999 : ../data/raw/v1/train-1.csv\n",
      "Generating 50000 - 74999 : ../data/raw/v1/train-2.csv\n",
      "Generating 75000 - 99999 : ../data/raw/v1/train-3.csv\n",
      "Generating 100000 - 124999 : ../data/raw/v1/train-4.csv\n",
      "Generating 125000 - 140699 : ../data/raw/v1/train-5.csv\n"
     ]
    }
   ],
   "source": [
    "%matplotlib inline\n",
    "import pandas  as pd\n",
    "import matplotlib.pyplot as plt\n",
    "import numpy as np\n",
    "import math\n",
    "\n",
    "from health.utils import EXEC_MODE\n",
    "\n",
    "%reload_ext autoreload\n",
    "%autoreload 2\n",
    "\n",
    "df = pd.read_csv(\"../data/external/train.csv\")\n",
    "max = len(df)\n",
    "num_rows =25e3\n",
    "total =  math.ceil(max/num_rows)\n",
    "\n",
    "for idx in range(0,total):\n",
    "    end = math.floor(min(max, ((idx+1) * num_rows)) -1)\n",
    "    start = math.floor(idx*num_rows) \n",
    "    part = df.loc[start: end]\n",
    "    target = f\"../data/raw/{EXEC_MODE}/train-{idx}.csv\"\n",
    "    if (end == max -1) :\n",
    "        t2 = f\"../data/raw/{EXEC_MODE}/test.csv\"\n",
    "        part.to_csv(t2,index=False)\n",
    "     \n",
    "    print(f\"Generating {start} - {end} : {target}\")\n",
    "    part.to_csv(target,index=False)\n",
    "\n",
    "\n",
    "\n"
   ]
  }
 ],
 "metadata": {
  "kernelspec": {
   "display_name": ".venv",
   "language": "python",
   "name": "python3"
  },
  "language_info": {
   "codemirror_mode": {
    "name": "ipython",
    "version": 3
   },
   "file_extension": ".py",
   "mimetype": "text/x-python",
   "name": "python",
   "nbconvert_exporter": "python",
   "pygments_lexer": "ipython3",
   "version": "3.12.6"
  }
 },
 "nbformat": 4,
 "nbformat_minor": 2
}
