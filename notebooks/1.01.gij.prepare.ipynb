{
 "cells": [
  {
   "cell_type": "markdown",
   "metadata": {},
   "source": [
    "We are splitting the data received from the external source (kaggle) to multiple training dataset to simulate the model training in ML ops\n",
    "External data (kaggle data) is split and kept as separate files in the raw folder as raw data\n",
    "We will be cleaning the raw data and adding the cleaned data to the processed folder in a later step\n"
   ]
  },
  {
   "cell_type": "code",
   "execution_count": null,
   "metadata": {},
   "outputs": [],
   "source": [
    "%matplotlib inline\n",
    "import pandas  as pd\n",
    "import matplotlib.pyplot as plt\n",
    "import numpy as np\n",
    "import math\n",
    "\n",
    "%reload_ext autoreload\n",
    "%autoreload 2\n",
    "\n",
    "df = pd.read_csv(\"../data/external/train.csv\")\n",
    "max = len(df)\n",
    "num_rows =25e3\n",
    "total =  math.ceil(max/num_rows)\n",
    "\n",
    "for idx in range(0,total):\n",
    "    end = math.floor(min(max, ((idx+1) * num_rows)) -1)\n",
    "    start = math.floor(idx*num_rows) \n",
    "    part = df.loc[start: end]\n",
    "    target = f\"../data/raw/train-{idx}.csv\"\n",
    "    if (end == max -1) :\n",
    "        target = f\"../data/raw/test.csv\"\n",
    "     \n",
    "    print(f\"Generating {start} - {end} : {target}\")\n",
    "    part.to_csv(target,index=False)\n",
    "\n"
   ]
  }
 ],
 "metadata": {
  "kernelspec": {
   "display_name": ".venv",
   "language": "python",
   "name": "python3"
  },
  "language_info": {
   "codemirror_mode": {
    "name": "ipython",
    "version": 3
   },
   "file_extension": ".py",
   "mimetype": "text/x-python",
   "name": "python",
   "nbconvert_exporter": "python",
   "pygments_lexer": "ipython3",
   "version": "3.12.6"
  }
 },
 "nbformat": 4,
 "nbformat_minor": 2
}
