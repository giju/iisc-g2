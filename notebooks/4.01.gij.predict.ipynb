{
 "cells": [
  {
   "cell_type": "code",
   "execution_count": 18,
   "metadata": {},
   "outputs": [
    {
     "name": "stdout",
     "output_type": "stream",
     "text": [
      "<class 'pandas.core.frame.DataFrame'>\n",
      "RangeIndex: 93800 entries, 0 to 93799\n",
      "Data columns (total 18 columns):\n",
      " #   Column              Non-Null Count  Dtype  \n",
      "---  ------              --------------  -----  \n",
      " 0   id                  93800 non-null  int64  \n",
      " 1   Gender              93800 non-null  object \n",
      " 2   Age                 93800 non-null  float64\n",
      " 3   City                93800 non-null  object \n",
      " 4   Profession_Status   93800 non-null  object \n",
      " 5   Profession          93800 non-null  object \n",
      " 6   Academic_Pressure   18767 non-null  float64\n",
      " 7   Work_Pressure       75022 non-null  float64\n",
      " 8   CGPA                93800 non-null  float64\n",
      " 9   Study_Satisfaction  18767 non-null  float64\n",
      " 10  Job_Satisfaction    75026 non-null  float64\n",
      " 11  Sleep_Duration      93800 non-null  float64\n",
      " 12  Dietary_Habits      93800 non-null  object \n",
      " 13  Degree              93800 non-null  object \n",
      " 14  Suicidal_Thoughts   93800 non-null  object \n",
      " 15  Work_Study_Hours    93800 non-null  float64\n",
      " 16  Financial_Stress    93800 non-null  float64\n",
      " 17  Family_History      93800 non-null  object \n",
      "dtypes: float64(9), int64(1), object(8)\n",
      "memory usage: 12.9+ MB\n",
      "None\n",
      "<class 'pandas.core.frame.DataFrame'>\n",
      "Index: 140700 entries, 0 to 24999\n",
      "Data columns (total 19 columns):\n",
      " #   Column              Non-Null Count   Dtype  \n",
      "---  ------              --------------   -----  \n",
      " 0   id                  140700 non-null  int64  \n",
      " 1   Gender              140700 non-null  object \n",
      " 2   Age                 140700 non-null  float64\n",
      " 3   City                140700 non-null  object \n",
      " 4   Profession_Status   140700 non-null  object \n",
      " 5   Profession          140700 non-null  object \n",
      " 6   Academic_Pressure   27897 non-null   float64\n",
      " 7   Work_Pressure       112782 non-null  float64\n",
      " 8   CGPA                140700 non-null  float64\n",
      " 9   Study_Satisfaction  27897 non-null   float64\n",
      " 10  Job_Satisfaction    112790 non-null  float64\n",
      " 11  Sleep_Duration      140700 non-null  float64\n",
      " 12  Dietary_Habits      140700 non-null  object \n",
      " 13  Degree              140700 non-null  object \n",
      " 14  Suicidal_Thoughts   140700 non-null  object \n",
      " 15  Work_Study_Hours    140700 non-null  float64\n",
      " 16  Financial_Stress    140696 non-null  float64\n",
      " 17  Family_History      140700 non-null  object \n",
      " 18  Depression          140700 non-null  float64\n",
      "dtypes: float64(10), int64(1), object(8)\n",
      "memory usage: 21.5+ MB\n",
      "None\n"
     ]
    }
   ],
   "source": [
    "\n",
    "import joblib\n",
    "import pandas  as pd\n",
    "import os\n",
    "from joblib import load\n",
    "from health.utils import  list_files, column_encoder,load_training_data,STR_COLS,CLEANED_DTYPES,EXEC_MODE\n",
    "\n",
    "train = load_training_data()\n",
    "\n",
    "K_test = pd.read_csv(f'../data/processed/{EXEC_MODE}/kaggle-test.csv',dtype=CLEANED_DTYPES)\n",
    "# print(K_test.describe())\n",
    "\n",
    "print(K_test.info())\n",
    "print(train.info())"
   ]
  },
  {
   "cell_type": "code",
   "execution_count": 19,
   "metadata": {},
   "outputs": [
    {
     "name": "stdout",
     "output_type": "stream",
     "text": [
      "Gender set() set()\n",
      "Age set() set()\n",
      "City set() set()\n",
      "Profession_Status set() set()\n",
      "Profession set() set()\n",
      "Academic_Pressure {nan} {nan}\n",
      "Work_Pressure {nan} {nan}\n",
      "CGPA set() set()\n",
      "Study_Satisfaction {nan} {nan}\n",
      "Job_Satisfaction {nan} {nan}\n",
      "Sleep_Duration set() {9.5}\n",
      "Dietary_Habits set() set()\n",
      "Degree set() set()\n",
      "Suicidal_Thoughts set() set()\n",
      "Work_Study_Hours set() set()\n",
      "Financial_Stress {nan} set()\n",
      "Family_History set() set()\n"
     ]
    }
   ],
   "source": [
    "all_cols = K_test.columns.to_list()\n",
    "all_cols.remove('id')\n",
    "for col in all_cols: \n",
    "    s1 = set(train[col].unique())\n",
    "    s2 = set(K_test[col].unique())\n",
    "    print(col,s1.difference(s2),s2.difference(s1))"
   ]
  },
  {
   "cell_type": "code",
   "execution_count": 20,
   "metadata": {},
   "outputs": [
    {
     "name": "stdout",
     "output_type": "stream",
     "text": [
      "Completed model $mlpclf-v1.joblib\n",
      "Completed model $logistic-v1.joblib\n"
     ]
    }
   ],
   "source": [
    "\n",
    "\n",
    "m_list = list_files('../models')\n",
    "\n",
    "\n",
    "for f in m_list:\n",
    "\n",
    "    if (not(EXEC_MODE in f)):\n",
    "        continue\n",
    "\n",
    "    # name = os.path.basename(f)\n",
    "    if ( not('.joblib' in f)):\n",
    "        continue\n",
    "     \n",
    "    try :\n",
    "        name = os.path.basename(f)\n",
    "        model = load(f)\n",
    "        y_pred = model.predict(K_test)\n",
    "        \n",
    "        result = pd.DataFrame({\n",
    "                'filename=filename=id': K_test['id'],\n",
    "                'Depression': y_pred\n",
    "                })\n",
    "        result.to_csv(f'../data/kaggle-out-{name}.csv',index=False)\n",
    "        print(f\"Completed model {name}\")\n",
    "    except Exception as err: \n",
    "        print(f\"Error while using model {f}\",err)\n",
    " "
   ]
  }
 ],
 "metadata": {
  "kernelspec": {
   "display_name": ".venv",
   "language": "python",
   "name": "python3"
  },
  "language_info": {
   "codemirror_mode": {
    "name": "ipython",
    "version": 3
   },
   "file_extension": ".py",
   "mimetype": "text/x-python",
   "name": "python",
   "nbconvert_exporter": "python",
   "pygments_lexer": "ipython3",
   "version": "3.12.6"
  }
 },
 "nbformat": 4,
 "nbformat_minor": 2
}
