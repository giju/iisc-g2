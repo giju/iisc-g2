{
 "cells": [
  {
   "cell_type": "code",
   "execution_count": 2,
   "metadata": {},
   "outputs": [
    {
     "name": "stderr",
     "output_type": "stream",
     "text": [
      "\u001b[32m2024-11-22 16:50:16.516\u001b[0m | \u001b[1mINFO    \u001b[0m | \u001b[36mhealth.config\u001b[0m:\u001b[36m<module>\u001b[0m:\u001b[36m11\u001b[0m - \u001b[1mPROJ_ROOT path is: /Users/ceegees/workspace/iisc-learning/are-you-depressed\u001b[0m\n"
     ]
    }
   ],
   "source": [
    "import pandas  as pd\n",
    "import matplotlib.pyplot as plt\n",
    "import numpy as np\n",
    "import os\n",
    "\n",
    "from sklearn.metrics import classification_report , confusion_matrix, ConfusionMatrixDisplay\n",
    "from sklearn.model_selection import train_test_split\n",
    "from sklearn.linear_model import LogisticRegression\n",
    "from sklearn.preprocessing import StandardScaler\n",
    "from health.utils import load_training_data, column_encoder,clean_str_data, EXEC_MODE\n",
    "from sklearn.neural_network import MLPClassifier\n",
    "from joblib import dump  \n",
    "from sklearn import metrics\n",
    "from sklearn.model_selection import GridSearchCV\n",
    "from sklearn.pipeline import Pipeline\n",
    "import json\n",
    "import hashlib\n",
    "\n",
    "from datetime import datetime\n",
    "\n",
    "df = load_training_data()\n",
    "df = df.reset_index(drop=True)\n",
    "df.set_index(['id'])\n",
    "\n",
    "\n",
    "col_len = len(df.columns.to_list())\n",
    "X = df.iloc[:,1:col_len -1]\n",
    "Y = df.iloc[:,col_len-1:]\n",
    "\n"
   ]
  },
  {
   "cell_type": "code",
   "execution_count": 3,
   "metadata": {},
   "outputs": [],
   "source": [
    "\n",
    "# Transform the data\n",
    "\n",
    "def create_report(model_name,model, params,X,Y):\n",
    "\n",
    "    json_str = json.dumps(params)\n",
    "    md5 = hashlib.md5(json_str.encode('utf-8')).hexdigest()\n",
    "    param_file = f\"../models/params/params-{model_name}-{md5}.json\"\n",
    "    if os.path.isfile(param_file):\n",
    "        print(\"re running running as report is already geenrated\")\n",
    "        # return\n",
    "\n",
    "    X_train, X_test, y_train, y_test = train_test_split(X, Y, test_size=0.25, random_state=16)\n",
    "\n",
    "    model.fit(X_train, y_train)\n",
    "    y_pred = model.predict(X_test)\n",
    "    report = classification_report(y_test, y_pred,output_dict=True)\n",
    "    tn, fp, fn, tp  = confusion_matrix(y_test, y_pred).ravel()\n",
    "\n",
    "    mx  = confusion_matrix(y_test, y_pred)\n",
    "    total = len(X_test)\n",
    "\n",
    " \n",
    "    model_file = f'../models/{model_name}-{md5}.joblib'\n",
    "    run_date = datetime.now().strftime(\"%Y-%m-%d %H:%M:%S\")\n",
    "    \n",
    "\n",
    "    registry_file = os.path.join(f'../reports/{EXEC_MODE}/model_report.csv')\n",
    "    if not os.path.exists(registry_file):\n",
    "        registry_df = pd.DataFrame(columns=[\"run_date\",  \"model_name\",\n",
    "        \"accuracy\",\n",
    "        \"tn\", 'tp', 'fn', 'fp',\n",
    "        \"model_file\", \n",
    "        \n",
    "        #  \"precision\",\"recall\",\"f1_score\"\n",
    "        ])\n",
    "    else:\n",
    "        registry_df = pd.read_csv(registry_file)\n",
    "        \n",
    "    new_entry = {\n",
    "        \"run_date\": run_date,\n",
    "        \"model_name\":model_name,\n",
    "        \"accuracy\":round(report['accuracy']*100,2),\n",
    "        \"tn\": round(tn*100/total,2),\n",
    "        \"tp\": round(tp*100/total,2),\n",
    "        \"fn\": round(fn*100/total,2),\n",
    "        \"fp\": round(tp*100/total,2),\n",
    "        \"model_path\": model_file,\n",
    "        \"param_path\": param_file, \n",
    "    }\n",
    "    registry_df = pd.concat([registry_df, pd.DataFrame([new_entry])], ignore_index=True)\n",
    "    registry_df.to_csv(registry_file, index=False)\n",
    "    \n",
    "    cm_display = metrics.ConfusionMatrixDisplay(confusion_matrix = mx, display_labels = [0, 1])\n",
    "    cm_display.plot()  \n",
    "\n",
    "    r2 = classification_report(y_test, y_pred)\n",
    "    print(r2)\n",
    "\n",
    "    with open(param_file, \"w\") as paramfile:\n",
    "        json.dump(params, paramfile)\n",
    "    dump(model,model_file)\n",
    "\n",
    "    \n"
   ]
  },
  {
   "cell_type": "code",
   "execution_count": 4,
   "metadata": {},
   "outputs": [
    {
     "name": "stdout",
     "output_type": "stream",
     "text": [
      "re running running as report is already geenrated\n"
     ]
    },
    {
     "name": "stderr",
     "output_type": "stream",
     "text": [
      "/Users/ceegees/workspace/iisc-learning/.venv/lib/python3.12/site-packages/sklearn/utils/validation.py:1339: DataConversionWarning: A column-vector y was passed when a 1d array was expected. Please change the shape of y to (n_samples, ), for example using ravel().\n",
      "  y = column_or_1d(y, warn=True)\n"
     ]
    },
    {
     "name": "stdout",
     "output_type": "stream",
     "text": [
      "              precision    recall  f1-score   support\n",
      "\n",
      "         0.0       0.92      0.96      0.94     28826\n",
      "         1.0       0.76      0.63      0.69      6349\n",
      "\n",
      "    accuracy                           0.90     35175\n",
      "   macro avg       0.84      0.79      0.81     35175\n",
      "weighted avg       0.89      0.90      0.89     35175\n",
      "\n"
     ]
    },
    {
     "data": {
      "image/png": "[encoded data removed]",
      "text/plain": [
       "<Figure size 640x480 with 2 Axes>"
      ]
     },
     "metadata": {},
     "output_type": "display_data"
    }
   ],
   "source": [
    "\n",
    "# instantiate the model (using the default parameters)\n",
    "params = {'random_state':10}\n",
    "model = LogisticRegression(**params)\n",
    "pipeline = Pipeline(steps=[('encoder', column_encoder), ('model', model)])\n",
    "create_report(f\"logistic-{EXEC_MODE}\",pipeline,params,X,Y)"
   ]
  },
  {
   "cell_type": "code",
   "execution_count": 5,
   "metadata": {},
   "outputs": [
    {
     "name": "stdout",
     "output_type": "stream",
     "text": [
      "re running running as report is already geenrated\n"
     ]
    },
    {
     "name": "stderr",
     "output_type": "stream",
     "text": [
      "/Users/ceegees/workspace/iisc-learning/.venv/lib/python3.12/site-packages/sklearn/neural_network/_multilayer_perceptron.py:1105: DataConversionWarning: A column-vector y was passed when a 1d array was expected. Please change the shape of y to (n_samples, ), for example using ravel().\n",
      "  y = column_or_1d(y, warn=True)\n",
      "/Users/ceegees/workspace/iisc-learning/.venv/lib/python3.12/site-packages/sklearn/neural_network/_multilayer_perceptron.py:690: ConvergenceWarning: Stochastic Optimizer: Maximum iterations (25) reached and the optimization hasn't converged yet.\n",
      "  warnings.warn(\n"
     ]
    },
    {
     "name": "stdout",
     "output_type": "stream",
     "text": [
      "              precision    recall  f1-score   support\n",
      "\n",
      "         0.0       0.92      0.96      0.94     28826\n",
      "         1.0       0.76      0.63      0.69      6349\n",
      "\n",
      "    accuracy                           0.90     35175\n",
      "   macro avg       0.84      0.79      0.81     35175\n",
      "weighted avg       0.89      0.90      0.89     35175\n",
      "\n"
     ]
    },
    {
     "data": {
      "image/png": "[encoded data removed]",
      "text/plain": [
       "<Figure size 640x480 with 2 Axes>"
      ]
     },
     "metadata": {},
     "output_type": "display_data"
    }
   ],
   "source": [
    "\n",
    "\n",
    "params = {\n",
    "    \"solver\":'adam', #lbfgs , sgd\n",
    "    \"alpha\":0.24,\n",
    "    \"hidden_layer_sizes\":(3, 6),\n",
    "    \"random_state\":2,\n",
    "    \"max_iter\":25,\n",
    "    \"learning_rate\":'constant',\n",
    "    \"activation\":\"relu\",\n",
    "    \"tol\":1e-4\n",
    "}\n",
    "clf = MLPClassifier(**params)\n",
    "scaler = StandardScaler()\n",
    "param_grid = {\n",
    "    'mlp__hidden_layer_sizes': [(50,), (100,), (100, 50)],\n",
    "    'mlp__activation': ['relu', 'tanh'],\n",
    "    'mlp__solver': ['adam', 'sgd'],\n",
    "    'mlp__alpha': [0.0001, 0.001],  # L2 regularization parameter\n",
    "}\n",
    "\n",
    "\n",
    "# ('scaler',scaler),\n",
    "pipeline2 = Pipeline(steps=[ ('encoder', column_encoder) ,('mlp', clf)])\n",
    "create_report(f'mlpclf-{EXEC_MODE}',pipeline2,params,X,Y)\n",
    " \n"
   ]
  },
  {
   "cell_type": "code",
   "execution_count": 7,
   "metadata": {},
   "outputs": [
    {
     "name": "stderr",
     "output_type": "stream",
     "text": [
      "/Users/ceegees/workspace/iisc-learning/.venv/lib/python3.12/site-packages/sklearn/utils/validation.py:1339: DataConversionWarning: A column-vector y was passed when a 1d array was expected. Please change the shape of y to (n_samples, ), for example using ravel().\n",
      "  y = column_or_1d(y, warn=True)\n",
      "/Users/ceegees/workspace/iisc-learning/.venv/lib/python3.12/site-packages/sklearn/utils/validation.py:1339: DataConversionWarning: A column-vector y was passed when a 1d array was expected. Please change the shape of y to (n_samples, ), for example using ravel().\n",
      "  y = column_or_1d(y, warn=True)\n",
      "/Users/ceegees/workspace/iisc-learning/.venv/lib/python3.12/site-packages/sklearn/utils/validation.py:1339: DataConversionWarning: A column-vector y was passed when a 1d array was expected. Please change the shape of y to (n_samples, ), for example using ravel().\n",
      "  y = column_or_1d(y, warn=True)\n"
     ]
    },
    {
     "name": "stdout",
     "output_type": "stream",
     "text": [
      "Best Parameters: {'log__random_state': 10, 'log__tol': 0.0001}\n",
      "Best Cross-Validation Score: 0.8973513385453683\n"
     ]
    },
    {
     "name": "stderr",
     "output_type": "stream",
     "text": [
      "/Users/ceegees/workspace/iisc-learning/.venv/lib/python3.12/site-packages/sklearn/utils/validation.py:1339: DataConversionWarning: A column-vector y was passed when a 1d array was expected. Please change the shape of y to (n_samples, ), for example using ravel().\n",
      "  y = column_or_1d(y, warn=True)\n"
     ]
    }
   ],
   "source": [
    "\n",
    "param_grid = {\n",
    "    # 'log__penalty':['l2','l1','elasticnet'],\n",
    "    'log__tol':[0.0001],\n",
    "    'log__random_state':[10],\n",
    "    # 'log__class_weight':['balanced','None'], \n",
    "    # 'log__solver':['lbfgs'], # 'newton-cholesky', 'sag', 'saga'],\n",
    "    # 'log__max_iter': [100], \n",
    "}\n",
    "log = LogisticRegression()\n",
    "\n",
    "pipeline3 = Pipeline(steps=[('encoder', column_encoder) ,('log', log)]) \n",
    "X_train, X_test, y_train, y_test = train_test_split(X, Y, test_size=0.25, random_state=16)\n",
    "grid_s1 = GridSearchCV(pipeline3, param_grid, cv=3)\n",
    "grid_s1.fit(X_train, y_train)\n",
    "\n",
    "# Best parameters and score\n",
    "print(\"Best Parameters:\", grid_s1.best_params_)\n",
    "print(\"Best Cross-Validation Score:\", grid_s1.best_score_)\n",
    "\n",
    "  \n"
   ]
  },
  {
   "cell_type": "code",
   "execution_count": null,
   "metadata": {},
   "outputs": [],
   "source": [
    " \n",
    "param_grid = {\n",
    "    'mlp__hidden_layer_sizes': [(10,), (20,)], # (20, 10)],\n",
    "    'mlp__activation': ['relu'], # 'tanh'],\n",
    "    'mlp__solver': ['adam'], # 'sgd'],\n",
    "    'mlp__alpha': [0.0001, 0.001],  # L2 regularization parameter\n",
    "}\n",
    "\n",
    "pipeline4 = Pipeline(steps=[('encoder', column_encoder) ,('mlp', clf)]) \n",
    "X_train, X_test, y_train, y_test = train_test_split(X, Y, test_size=0.25, random_state=16)\n",
    "grid_search = GridSearchCV(pipeline4, param_grid, cv=3)\n",
    "grid_search.fit(X_train, y_train)\n",
    "\n",
    "# Best parameters and score\n",
    "print(\"Best Parameters:\", grid_search.best_params_)\n",
    "print(\"Best Cross-Validation Score:\", grid_search.best_score_)\n"
   ]
  }
 ],
 "metadata": {
  "kernelspec": {
   "display_name": ".venv",
   "language": "python",
   "name": "python3"
  },
  "language_info": {
   "codemirror_mode": {
    "name": "ipython",
    "version": 3
   },
   "file_extension": ".py",
   "mimetype": "text/x-python",
   "name": "python",
   "nbconvert_exporter": "python",
   "pygments_lexer": "ipython3",
   "version": "3.12.6"
  }
 },
 "nbformat": 4,
 "nbformat_minor": 2
}
