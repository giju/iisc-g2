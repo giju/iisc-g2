{
 "cells": [
  {
   "cell_type": "code",
   "execution_count": 1,
   "metadata": {},
   "outputs": [
    {
     "name": "stdout",
     "output_type": "stream",
     "text": [
      "Requirement already satisfied: pandas in /home/codespace/.local/lib/python3.12/site-packages (2.2.3)\n",
      "Requirement already satisfied: scikit-learn in /home/codespace/.local/lib/python3.12/site-packages (1.5.2)\n",
      "Requirement already satisfied: numpy>=1.26.0 in /home/codespace/.local/lib/python3.12/site-packages (from pandas) (1.26.4)\n",
      "Requirement already satisfied: python-dateutil>=2.8.2 in /home/codespace/.local/lib/python3.12/site-packages (from pandas) (2.9.0.post0)\n",
      "Requirement already satisfied: pytz>=2020.1 in /home/codespace/.local/lib/python3.12/site-packages (from pandas) (2024.2)\n",
      "Requirement already satisfied: tzdata>=2022.7 in /home/codespace/.local/lib/python3.12/site-packages (from pandas) (2024.2)\n",
      "Requirement already satisfied: scipy>=1.6.0 in /home/codespace/.local/lib/python3.12/site-packages (from scikit-learn) (1.14.1)\n",
      "Requirement already satisfied: joblib>=1.2.0 in /home/codespace/.local/lib/python3.12/site-packages (from scikit-learn) (1.4.2)\n",
      "Requirement already satisfied: threadpoolctl>=3.1.0 in /home/codespace/.local/lib/python3.12/site-packages (from scikit-learn) (3.5.0)\n",
      "Requirement already satisfied: six>=1.5 in /home/codespace/.local/lib/python3.12/site-packages (from python-dateutil>=2.8.2->pandas) (1.16.0)\n"
     ]
    }
   ],
   "source": [
    "! pip install pandas scikit-learn\n"
   ]
  },
  {
   "cell_type": "code",
   "execution_count": 4,
   "metadata": {},
   "outputs": [
    {
     "name": "stdout",
     "output_type": "stream",
     "text": [
      "Confusion Matrix:\n",
      "[[2255   48]\n",
      " [ 147  364]]\n",
      "\n",
      "Classification Report:\n",
      "              precision    recall  f1-score   support\n",
      "\n",
      "           0       0.94      0.98      0.96      2303\n",
      "           1       0.88      0.71      0.79       511\n",
      "\n",
      "    accuracy                           0.93      2814\n",
      "   macro avg       0.91      0.85      0.87      2814\n",
      "weighted avg       0.93      0.93      0.93      2814\n",
      "\n",
      "\n",
      "Accuracy Score:\n",
      "0.9307036247334755\n",
      "Model saved at: ../data/model/svm_model_ef898153-f837-4e9e-a75f-695a9edacace.joblib\n",
      "Model metadata logged in ../data/model/model_registry.csv\n"
     ]
    }
   ],
   "source": [
    "import pandas as pd\n",
    "import os\n",
    "import joblib\n",
    "import uuid\n",
    "from datetime import datetime\n",
    "from sklearn.model_selection import train_test_split\n",
    "from sklearn.svm import SVC\n",
    "from sklearn.preprocessing import StandardScaler\n",
    "from sklearn.metrics import classification_report, confusion_matrix, accuracy_score\n",
    "\n",
    "# Step 1: Load Sampled Data\n",
    "data = pd.read_csv(\"../data/raw/train_sample_10p.csv\")  # Ensure the sample exists in this path\n",
    "\n",
    "# Replace 'target_column' with your actual target column name\n",
    "target_column = 'Depression'  # Replace with your actual target variable\n",
    "X = data.drop(columns=[target_column])  # Features: All columns except the target\n",
    "y = data[target_column]  # Target column\n",
    "\n",
    "# Step 2: Handle Missing Values\n",
    "numeric_cols = X.select_dtypes(include=['number']).columns\n",
    "non_numeric_cols = X.select_dtypes(exclude=['number']).columns\n",
    "\n",
    "X[numeric_cols] = X[numeric_cols].fillna(X[numeric_cols].mean())\n",
    "for col in non_numeric_cols:\n",
    "    X[col] = X[col].fillna(X[col].mode()[0])\n",
    "\n",
    "# Encode Non-Numeric Columns\n",
    "X = pd.get_dummies(X, drop_first=True)\n",
    "\n",
    "# Scale Features\n",
    "scaler = StandardScaler()\n",
    "X_scaled = scaler.fit_transform(X)\n",
    "\n",
    "# Split Data\n",
    "X_train, X_test, y_train, y_test = train_test_split(X_scaled, y, test_size=0.2, random_state=42, stratify=y)\n",
    "\n",
    "# Train SVM Model\n",
    "svm_model = SVC(kernel='rbf', C=1.0, gamma='scale', random_state=42)\n",
    "svm_model.fit(X_train, y_train)\n",
    "\n",
    "# Evaluate the Model\n",
    "y_pred = svm_model.predict(X_test)\n",
    "print(\"Confusion Matrix:\")\n",
    "print(confusion_matrix(y_test, y_pred))\n",
    "print(\"\\nClassification Report:\")\n",
    "print(classification_report(y_test, y_pred))\n",
    "print(\"\\nAccuracy Score:\")\n",
    "print(accuracy_score(y_test, y_pred))\n",
    "\n",
    "# Save the Model\n",
    "run_id = str(uuid.uuid4())  # Generate a unique ID for this run\n",
    "run_date = datetime.now().strftime(\"%Y-%m-%d %H:%M:%S\")  # Record the current date and time\n",
    "model_name = \"SVM\"\n",
    "model_dir = \"../data/model\"\n",
    "os.makedirs(model_dir, exist_ok=True)\n",
    "model_path = os.path.join(model_dir, f\"svm_model_{run_id}.joblib\")\n",
    "joblib.dump(svm_model, model_path)\n",
    "print(f\"Model saved at: {model_path}\")\n",
    "\n",
    "# Step 3: Log Model Metadata in model_registry.csv\n",
    "registry_file = \"../data/model/model_registry.csv\"\n",
    "if not os.path.exists(registry_file):\n",
    "    # Create the file with headers if it doesn't exist\n",
    "    registry_df = pd.DataFrame(columns=[\"run_date\", \"model_name\", \"model_path\"])\n",
    "else:\n",
    "    # Load the existing registry\n",
    "    registry_df = pd.read_csv(registry_file)\n",
    "\n",
    "# Append the new model metadata\n",
    "new_entry = {\"run_date\": run_date, \"model_name\": model_name, \"model_path\": model_path}\n",
    "registry_df = pd.concat([registry_df, pd.DataFrame([new_entry])], ignore_index=True)\n",
    "\n",
    "# Save the updated registry\n",
    "registry_df.to_csv(registry_file, index=False)\n",
    "print(f\"Model metadata logged in {registry_file}\")\n"
   ]
  }
 ],
 "metadata": {
  "kernelspec": {
   "display_name": "Python 3",
   "language": "python",
   "name": "python3"
  },
  "language_info": {
   "codemirror_mode": {
    "name": "ipython",
    "version": 3
   },
   "file_extension": ".py",
   "mimetype": "text/x-python",
   "name": "python",
   "nbconvert_exporter": "python",
   "pygments_lexer": "ipython3",
   "version": "3.12.1"
  }
 },
 "nbformat": 4,
 "nbformat_minor": 2
}
