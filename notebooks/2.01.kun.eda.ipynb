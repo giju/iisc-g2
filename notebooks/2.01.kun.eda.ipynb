{
 "cells": [
  {
   "cell_type": "markdown",
   "metadata": {},
   "source": [
    "### EDA, Data Visualization and Feature engineering\n"
   ]
  },
  {
   "cell_type": "code",
   "execution_count": 1,
   "metadata": {},
   "outputs": [
    {
     "name": "stderr",
     "output_type": "stream",
     "text": [
      "/home/codespace/.local/lib/python3.12/site-packages/tqdm/auto.py:21: TqdmWarning: IProgress not found. Please update jupyter and ipywidgets. See https://ipywidgets.readthedocs.io/en/stable/user_install.html\n",
      "  from .autonotebook import tqdm as notebook_tqdm\n"
     ]
    }
   ],
   "source": [
    "import numpy as np\n",
    "import pandas as pd \n",
    "import re\n",
    "import matplotlib.pyplot as plt\n",
    "import seaborn as sns\n",
    "import warnings\n",
    "import copy\n",
    "import optuna\n",
    "import pandas as pd\n",
    "from sklearn.model_selection import StratifiedKFold\n",
    "from sklearn.metrics import roc_auc_score, accuracy_score, f1_score\n",
    "from catboost import CatBoostClassifier, Pool\n",
    "from tqdm import tqdm"
   ]
  },
  {
   "cell_type": "code",
   "execution_count": 3,
   "metadata": {},
   "outputs": [],
   "source": [
    "train = pd.read_csv(\"../data/train.csv\")\n",
    "test = pd.read_csv(\"../data/test.csv\")\n",
    "submission = pd.read_csv(\"../data/sample_submission.csv\")"
   ]
  },
  {
   "cell_type": "code",
   "execution_count": 4,
   "metadata": {},
   "outputs": [
    {
     "name": "stdout",
     "output_type": "stream",
     "text": [
      "<class 'pandas.core.frame.DataFrame'>\n",
      "RangeIndex: 140700 entries, 0 to 140699\n",
      "Data columns (total 20 columns):\n",
      " #   Column                                 Non-Null Count   Dtype  \n",
      "---  ------                                 --------------   -----  \n",
      " 0   id                                     140700 non-null  int64  \n",
      " 1   Name                                   140700 non-null  object \n",
      " 2   Gender                                 140700 non-null  object \n",
      " 3   Age                                    140700 non-null  float64\n",
      " 4   City                                   140700 non-null  object \n",
      " 5   Working Professional or Student        140700 non-null  object \n",
      " 6   Profession                             104070 non-null  object \n",
      " 7   Academic Pressure                      27897 non-null   float64\n",
      " 8   Work Pressure                          112782 non-null  float64\n",
      " 9   CGPA                                   27898 non-null   float64\n",
      " 10  Study Satisfaction                     27897 non-null   float64\n",
      " 11  Job Satisfaction                       112790 non-null  float64\n",
      " 12  Sleep Duration                         140700 non-null  object \n",
      " 13  Dietary Habits                         140696 non-null  object \n",
      " 14  Degree                                 140698 non-null  object \n",
      " 15  Have you ever had suicidal thoughts ?  140700 non-null  object \n",
      " 16  Work/Study Hours                       140700 non-null  float64\n",
      " 17  Financial Stress                       140696 non-null  float64\n",
      " 18  Family History of Mental Illness       140700 non-null  object \n",
      " 19  Depression                             140700 non-null  int64  \n",
      "dtypes: float64(8), int64(2), object(10)\n",
      "memory usage: 21.5+ MB\n"
     ]
    }
   ],
   "source": [
    "train.info()"
   ]
  },
  {
   "cell_type": "code",
   "execution_count": 7,
   "metadata": {},
   "outputs": [
    {
     "name": "stdout",
     "output_type": "stream",
     "text": [
      "['id', 'Age', 'Academic Pressure', 'Work Pressure', 'CGPA', 'Study Satisfaction', 'Job Satisfaction', 'Work/Study Hours', 'Financial Stress', 'Depression']\n",
      "['Name', 'Gender', 'City', 'Working Professional or Student', 'Profession', 'Sleep Duration', 'Dietary Habits', 'Degree', 'Have you ever had suicidal thoughts ?', 'Family History of Mental Illness']\n"
     ]
    }
   ],
   "source": [
    "numerical_col = train.select_dtypes(include= ['number']).columns.to_list()\n",
    "catagorical_col = train.select_dtypes(include= ['category','object']).columns.to_list()\n",
    "print(numerical_col)\n",
    "print(catagorical_col)"
   ]
  },
  {
   "cell_type": "markdown",
   "metadata": {},
   "source": [
    "#### Exploring Numerical features"
   ]
  },
  {
   "cell_type": "code",
   "execution_count": 8,
   "metadata": {},
   "outputs": [
    {
     "data": {
      "text/plain": [
       "id                         0\n",
       "Age                        0\n",
       "Academic Pressure     112803\n",
       "Work Pressure          27918\n",
       "CGPA                  112802\n",
       "Study Satisfaction    112803\n",
       "Job Satisfaction       27910\n",
       "Work/Study Hours           0\n",
       "Financial Stress           4\n",
       "Depression                 0\n",
       "dtype: int64"
      ]
     },
     "execution_count": 8,
     "metadata": {},
     "output_type": "execute_result"
    }
   ],
   "source": [
    "\n",
    "train[numerical_col].isna().sum()"
   ]
  },
  {
   "cell_type": "markdown",
   "metadata": {},
   "source": [
    "#### Checking for null counts across all columns"
   ]
  },
  {
   "cell_type": "code",
   "execution_count": 11,
   "metadata": {},
   "outputs": [
    {
     "name": "stdout",
     "output_type": "stream",
     "text": [
      "                                   Column  Null Count  Null Percentage\n",
      "10                     Study Satisfaction      112803        80.172708\n",
      "7                       Academic Pressure      112803        80.172708\n",
      "9                                    CGPA      112802        80.171997\n",
      "6                              Profession       36630        26.034115\n",
      "8                           Work Pressure       27918        19.842217\n",
      "11                       Job Satisfaction       27910        19.836532\n",
      "13                         Dietary Habits           4         0.002843\n",
      "17                       Financial Stress           4         0.002843\n",
      "14                                 Degree           2         0.001421\n",
      "18       Family History of Mental Illness           0         0.000000\n",
      "16                       Work/Study Hours           0         0.000000\n",
      "15  Have you ever had suicidal thoughts ?           0         0.000000\n",
      "0                                      id           0         0.000000\n",
      "12                         Sleep Duration           0         0.000000\n",
      "1                                    Name           0         0.000000\n",
      "5         Working Professional or Student           0         0.000000\n",
      "4                                    City           0         0.000000\n",
      "3                                     Age           0         0.000000\n",
      "2                                  Gender           0         0.000000\n",
      "19                             Depression           0         0.000000\n"
     ]
    }
   ],
   "source": [
    "import os\n",
    "import pandas as pd\n",
    "\n",
    "\n",
    "null_counts = train.isna().sum()\n",
    "\n",
    "null_percentage = (null_counts / len(train)) * 100\n",
    "\n",
    "null_analysis = pd.DataFrame({\n",
    "    'Column': null_counts.index,\n",
    "    'Null Count': null_counts.values,\n",
    "    'Null Percentage': null_percentage.values\n",
    "}).sort_values(by='Null Percentage', ascending=False)\n",
    "\n",
    "output_dir = \"../data/analysis\"\n",
    "os.makedirs(output_dir, exist_ok=True) \n",
    "\n",
    "output_file = os.path.join(output_dir, \"null_analysis.csv\")\n",
    "null_analysis.to_csv(output_file, index=False)\n",
    "\n",
    "print(null_analysis)\n"
   ]
  }
 ],
 "metadata": {
  "kernelspec": {
   "display_name": "Python 3",
   "language": "python",
   "name": "python3"
  },
  "language_info": {
   "codemirror_mode": {
    "name": "ipython",
    "version": 3
   },
   "file_extension": ".py",
   "mimetype": "text/x-python",
   "name": "python",
   "nbconvert_exporter": "python",
   "pygments_lexer": "ipython3",
   "version": "3.12.1"
  }
 },
 "nbformat": 4,
 "nbformat_minor": 2
}
